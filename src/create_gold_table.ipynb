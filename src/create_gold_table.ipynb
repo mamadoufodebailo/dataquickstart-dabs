{
 "cells": [
  {
   "cell_type": "code",
   "execution_count": null,
   "id": "349b89d4",
   "metadata": {},
   "outputs": [],
   "source": [
    "catalog = dbutils.widgets.get(\"catalog_name\")\n",
    "target = dbutils.widgets.get(\"display_target\")\n",
    "\n",
    "print(f\"Catalog: {catalog}\")\n",
    "print(f\"Target: {target}\")"
   ]
  },
  {
   "cell_type": "code",
   "execution_count": null,
   "id": "9423d369",
   "metadata": {},
   "outputs": [],
   "source": [
    "requete = f\"\"\"\n",
    "create or replace table {catalog}.default.health_gold_demo_01 as\n",
    "select landmark, count(landmark) as count, sum(dockcount) as total \n",
    "from {catalog}.default.health_silver_demo_01\n",
    "group by landmark\n",
    "order by landmark asc\n",
    "\"\"\"\n",
    "\n",
    "spark.sql(requete)\n",
    "\n",
    "print(f\"Table {catalog}.default.health_gold_demo_01 created successfully.\")"
   ]
  }
 ],
 "metadata": {
  "language_info": {
   "name": "python"
  }
 },
 "nbformat": 4,
 "nbformat_minor": 5
}
