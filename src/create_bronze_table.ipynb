{
 "cells": [
  {
   "cell_type": "code",
   "execution_count": null,
   "id": "8778d231",
   "metadata": {},
   "outputs": [],
   "source": [
    "target = dbutils.widgets.get(\"display_target\")\n",
    "catalog = dbutils.widgets.get(\"catalog_name\")\n",
    "raw_data_path = dbutils.widgets.get(\"raw_data_path\")\n",
    "\n",
    "print(f\"Using the {catalog} catalog.\")\n",
    "print(f\"Deploying as the {target} pipeline.\")"
   ]
  },
  {
   "cell_type": "code",
   "execution_count": null,
   "id": "e13091e9",
   "metadata": {},
   "outputs": [],
   "source": [
    "requete = f\"\"\"\n",
    "create or replace table {catalog}.default.health_bronze_demo_01 as\n",
    "select\n",
    "    *,\n",
    "    _metadata.file_name as file_name,\n",
    "    _metadata.file_path as file_path,\n",
    "    _metadata.file_modification_time as file_modification_time,\n",
    "    current_timestamp() as inserted_date\n",
    "from read_files(\n",
    "    '{raw_data_path}',  \n",
    "    format=>'csv', \n",
    "    header=>'true', \n",
    "    inferSchema=>'true'\n",
    ")\n",
    "\"\"\"\n",
    "\n",
    "spark.sql(requete)\n",
    "\n",
    "print(f\"Table {catalog}.default.health_bronze_demo_01 created successfully.\")"
   ]
  }
 ],
 "metadata": {
  "kernelspec": {
   "display_name": ".venv",
   "language": "python",
   "name": "python3"
  },
  "language_info": {
   "codemirror_mode": {
    "name": "ipython",
    "version": 3
   },
   "file_extension": ".py",
   "mimetype": "text/x-python",
   "name": "python",
   "nbconvert_exporter": "python",
   "pygments_lexer": "ipython3",
   "version": "3.11.12"
  }
 },
 "nbformat": 4,
 "nbformat_minor": 5
}
