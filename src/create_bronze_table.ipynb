{
 "cells": [
  {
   "cell_type": "code",
   "execution_count": null,
   "id": "9a4f1a94",
   "metadata": {},
   "outputs": [
    {
     "name": "stderr",
     "output_type": "stream",
     "text": [
      "/Users/user/databricks_projects/.venv/lib/python3.11/site-packages/databricks/sdk/_widgets/__init__.py:71: UserWarning: \n",
      "To use databricks widgets interactively in your notebook, please install databricks sdk using:\n",
      "\tpip install 'databricks-sdk[notebook]'\n",
      "Falling back to default_value_only implementation for databricks widgets.\n",
      "  warnings.warn(\n"
     ]
    },
    {
     "ename": "KeyError",
     "evalue": "'display_target'",
     "output_type": "error",
     "traceback": [
      "\u001b[31m---------------------------------------------------------------------------\u001b[39m",
      "\u001b[31mKeyError\u001b[39m                                  Traceback (most recent call last)",
      "\u001b[36mCell\u001b[39m\u001b[36m \u001b[39m\u001b[32mIn[2]\u001b[39m\u001b[32m, line 1\u001b[39m\n\u001b[32m----> \u001b[39m\u001b[32m1\u001b[39m target = \u001b[43mdbutils\u001b[49m\u001b[43m.\u001b[49m\u001b[43mwidgets\u001b[49m\u001b[43m.\u001b[49m\u001b[43mget\u001b[49m\u001b[43m(\u001b[49m\u001b[33;43m\"\u001b[39;49m\u001b[33;43mdisplay_target\u001b[39;49m\u001b[33;43m\"\u001b[39;49m\u001b[43m)\u001b[49m\n\u001b[32m      2\u001b[39m catalog = dbutils.widgets.get(\u001b[33m\"\u001b[39m\u001b[33mcatalog_name\u001b[39m\u001b[33m\"\u001b[39m)\n\u001b[32m      4\u001b[39m \u001b[38;5;28mprint\u001b[39m(\u001b[33mf\u001b[39m\u001b[33m\"\u001b[39m\u001b[33mUsing the \u001b[39m\u001b[38;5;132;01m{\u001b[39;00mcatalog\u001b[38;5;132;01m}\u001b[39;00m\u001b[33m catalog.\u001b[39m\u001b[33m\"\u001b[39m)\n",
      "\u001b[36mFile \u001b[39m\u001b[32m~/databricks_projects/.venv/lib/python3.11/site-packages/databricks/sdk/_widgets/__init__.py:10\u001b[39m, in \u001b[36mWidgetUtils.get\u001b[39m\u001b[34m(self, name)\u001b[39m\n\u001b[32m      9\u001b[39m \u001b[38;5;28;01mdef\u001b[39;00m\u001b[38;5;250m \u001b[39m\u001b[34mget\u001b[39m(\u001b[38;5;28mself\u001b[39m, name: \u001b[38;5;28mstr\u001b[39m):\n\u001b[32m---> \u001b[39m\u001b[32m10\u001b[39m     \u001b[38;5;28;01mreturn\u001b[39;00m \u001b[38;5;28;43mself\u001b[39;49m\u001b[43m.\u001b[49m\u001b[43m_get\u001b[49m\u001b[43m(\u001b[49m\u001b[43mname\u001b[49m\u001b[43m)\u001b[49m\n",
      "\u001b[36mFile \u001b[39m\u001b[32m~/databricks_projects/.venv/lib/python3.11/site-packages/databricks/sdk/_widgets/default_widgets_utils.py:42\u001b[39m, in \u001b[36mDefaultValueOnlyWidgetUtils._get\u001b[39m\u001b[34m(self, name)\u001b[39m\n\u001b[32m     41\u001b[39m \u001b[38;5;28;01mdef\u001b[39;00m\u001b[38;5;250m \u001b[39m\u001b[34m_get\u001b[39m(\u001b[38;5;28mself\u001b[39m, name: \u001b[38;5;28mstr\u001b[39m) -> \u001b[38;5;28mstr\u001b[39m:\n\u001b[32m---> \u001b[39m\u001b[32m42\u001b[39m     \u001b[38;5;28;01mreturn\u001b[39;00m \u001b[38;5;28;43mself\u001b[39;49m\u001b[43m.\u001b[49m\u001b[43m_widgets\u001b[49m\u001b[43m[\u001b[49m\u001b[43mname\u001b[49m\u001b[43m]\u001b[49m\n",
      "\u001b[31mKeyError\u001b[39m: 'display_target'"
     ]
    }
   ],
   "source": [
    "target = dbutils.widgets.get(\"display_target\")\n",
    "catalog = dbutils.widgets.get(\"catalog_name\")\n",
    "raw_data_path = dbutils.widgets.get(\"raw_data_path\")\n",
    "\n",
    "print(f\"Using the {catalog} catalog.\")\n",
    "print(f\"Deploying as the {target} pipeline.\")"
   ]
  },
  {
   "cell_type": "code",
   "execution_count": null,
   "id": "e13091e9",
   "metadata": {},
   "outputs": [],
   "source": [
    "requete = f\"\"\"\n",
    "create or replace table {catalog}.default.health_bronze_demo_01 as\n",
    "select\n",
    "    *,\n",
    "    _metadata.file_name as file_name,\n",
    "    _metadata.file_path as file_path,\n",
    "    _metadata.file_modification_time as file_modification_time,\n",
    "    current_timestamp() as inserted_date\n",
    "from read_files(\n",
    "    '{raw_data_path}',  \n",
    "    format=>'csv', \n",
    "    header=>'true', \n",
    "    inferSchema=>'true'\n",
    ")\n",
    "\"\"\"\n",
    "\n",
    "spark.sql(requete)\n",
    "\n",
    "print(f\"Table {catalog}.default.health_bronze_demo_01 created successfully.\")"
   ]
  }
 ],
 "metadata": {
  "kernelspec": {
   "display_name": ".venv",
   "language": "python",
   "name": "python3"
  },
  "language_info": {
   "codemirror_mode": {
    "name": "ipython",
    "version": 3
   },
   "file_extension": ".py",
   "mimetype": "text/x-python",
   "name": "python",
   "nbconvert_exporter": "python",
   "pygments_lexer": "ipython3",
   "version": "3.11.12"
  }
 },
 "nbformat": 4,
 "nbformat_minor": 5
}
