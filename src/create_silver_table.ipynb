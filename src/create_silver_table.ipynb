{
 "cells": [
  {
   "cell_type": "code",
   "execution_count": null,
   "id": "f3538f8a",
   "metadata": {},
   "outputs": [],
   "source": [
    "catalog = dbutils.widgets.get(\"catalog_name\")\n",
    "target = dbutils.widgets.get(\"display_target\")\n",
    "\n",
    "print(f\"Catalog: {catalog}\")\n",
    "print(f\"Target: {target}\")"
   ]
  },
  {
   "cell_type": "code",
   "execution_count": null,
   "id": "0195b066",
   "metadata": {},
   "outputs": [],
   "source": [
    "requete = f\"\"\"\n",
    "create or replace table {catalog}.default.health_silver_demo_01 as\n",
    "select * except (file_name, file_path, file_modification_time, inserted_date, _rescued_data)\n",
    "from {catalog}.default.health_bronze_demo_01\n",
    "\"\"\"\n",
    "\n",
    "spark.sql(requete)\n",
    "\n",
    "print(f\"Table {catalog}.default.health_silver_demo_01 created successfully.\")"
   ]
  }
 ],
 "metadata": {
  "kernelspec": {
   "display_name": ".venv",
   "language": "python",
   "name": "python3"
  },
  "language_info": {
   "name": "python",
   "version": "3.11.12"
  }
 },
 "nbformat": 4,
 "nbformat_minor": 5
}
